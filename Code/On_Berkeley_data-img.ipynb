{
 "cells": [
  {
   "cell_type": "code",
   "execution_count": 23,
   "id": "a8816f79",
   "metadata": {},
   "outputs": [],
   "source": [
    "import numpy as np\n",
    "import pandas as pd\n",
    "from matplotlib.backends.backend_pdf import PdfPages\n",
    "import matplotlib.pyplot as plt\n",
    "%matplotlib inline\n",
    "import scipy.io\n",
    "import PIL\n",
    "import scipy.linalg\n",
    "from sklearn.cross_decomposition import PLSRegression \n",
    "from sklearn.metrics import mean_squared_error as MSE\n",
    "from matplotlib.ticker import MaxNLocator\n",
    "from qpfs import *\n",
    "from kernels import *\n",
    "from tqdm import tqdm\n",
    "from sklearn.linear_model import LinearRegression\n",
    "from datetime import timedelta\n",
    "import warnings\n",
    "warnings.simplefilter(\"ignore\")\n",
    "from tensorly.decomposition import robust_pca"
   ]
  },
  {
   "cell_type": "code",
   "execution_count": 22,
   "id": "408ea35f",
   "metadata": {},
   "outputs": [],
   "source": [
    "i1 = PIL.Image.open(f'BerkeleyMHAD/Cam1/R01/img_l01_c01_s01_a01_r01_00018.pgm')\n",
    "i1 = i1.crop((230,100,380,450))\n",
    "i1 = i1.resize((30,70),PIL.Image.ANTIALIAS)\n",
    "i1.show()"
   ]
  },
  {
   "cell_type": "code",
   "execution_count": 46,
   "id": "0f7c6974",
   "metadata": {},
   "outputs": [],
   "source": [
    "Y1 = pd.read_csv('BerkeleyMHAD/acc_h01_s01_a01_r01.csv').values.reshape(182,4,1)\n",
    "Y2 = pd.read_csv('BerkeleyMHAD/acc_h02_s01_a01_r01.csv').iloc[1:,:3].values.reshape(180,3,1)\n",
    "Y3 = pd.read_csv('BerkeleyMHAD/acc_h03_s01_a01_r01.csv').iloc[1:,:3].values.reshape(180,3,1)\n",
    "Y4 = pd.read_csv('BerkeleyMHAD/acc_h04_s01_a01_r01.csv').iloc[1:,:3].values.reshape(180,3,1)\n",
    "Y5 = pd.read_csv('BerkeleyMHAD/acc_h05_s01_a01_r01.csv').iloc[1:,:3].values.reshape(180,3,1)\n",
    "Y6 = pd.read_csv('BerkeleyMHAD/acc_h06_s01_a01_r01.csv').iloc[:,:3].values.reshape(180,3,1)\n",
    "Y_t = np.concatenate((Y1[2:,:3,:],Y2,Y3,Y4,Y5,Y6),axis=2)\n",
    "X1 = PIL.Image.open(f'BerkeleyMHAD/Cam1/R01/img_l01_c01_s01_a01_r01_00000.pgm')\n",
    "X2 = PIL.Image.open(f'BerkeleyMHAD/Cam2/R01/img_l02_c01_s01_a01_r01_00000.pgm')\n",
    "X3 = PIL.Image.open(f'BerkeleyMHAD/Cam3/R01/img_l03_c01_s01_a01_r01_00000.pgm')\n",
    "X4 = PIL.Image.open(f'BerkeleyMHAD/Cam4/R01/img_l04_c01_s01_a01_r01_00000.pgm')\n",
    "X1 = X1.crop((210,30,450,470))\n",
    "X1 = X1.resize((30,55),PIL.Image.ANTIALIAS)\n",
    "X2 = X2.crop((210,30,450,470))\n",
    "X2 = X2.resize((30,55),PIL.Image.ANTIALIAS)\n",
    "X3 = X3.crop((210,30,450,470))\n",
    "X3 = X3.resize((30,55),PIL.Image.ANTIALIAS)\n",
    "X4 = X4.crop((210,30,450,470))\n",
    "X4 = X4.resize((30,55),PIL.Image.ANTIALIAS)\n",
    "X4.show()\n",
    "X1.show()\n",
    "X2.show()\n",
    "X3.show()\n",
    "X1 = np.array(X1).reshape(55,30,1)\n",
    "X2 = np.array(X2).reshape(55,30,1)\n",
    "X3 = np.array(X3).reshape(55,30,1)\n",
    "X4 = np.array(X4).reshape(55,30,1)\n",
    "X_t = np.concatenate((X1,X2,X3,X4), axis=2).reshape(1,55,30,4)\n",
    "for i in range(1,126):\n",
    "    if i < 10:\n",
    "        n = '00'+str(i)\n",
    "    elif i < 100:\n",
    "        n = '0'+str(i)\n",
    "    else:\n",
    "        n = str(i)\n",
    "    X1 = PIL.Image.open(f'BerkeleyMHAD/Cam1/R01/img_l01_c01_s01_a01_r01_00{n}.pgm')\n",
    "    X2 = PIL.Image.open(f'BerkeleyMHAD/Cam2/R01/img_l02_c01_s01_a01_r01_00{n}.pgm')\n",
    "    X3 = PIL.Image.open(f'BerkeleyMHAD/Cam3/R01/img_l03_c01_s01_a01_r01_00{n}.pgm')\n",
    "    X4 = PIL.Image.open(f'BerkeleyMHAD/Cam4/R01/img_l04_c01_s01_a01_r01_00{n}.pgm')\n",
    "    X1 = X1.crop((210,30,450,470))\n",
    "    X1 = X1.resize((30,55),PIL.Image.ANTIALIAS)\n",
    "    X2 = X2.crop((210,30,450,470))\n",
    "    X2 = X2.resize((30,55),PIL.Image.ANTIALIAS)\n",
    "    X3 = X3.crop((210,30,450,470))\n",
    "    X3 = X3.resize((30,55),PIL.Image.ANTIALIAS)\n",
    "    X4 = X4.crop((210,30,450,470))\n",
    "    X4 = X4.resize((30,55),PIL.Image.ANTIALIAS)\n",
    "    X1 = np.array(X1).reshape(55,30,1)\n",
    "    X2 = np.array(X2).reshape(55,30,1)\n",
    "    X3 = np.array(X3).reshape(55,30,1)\n",
    "    X4 = np.array(X4).reshape(55,30,1)\n",
    "    X_t = np.concatenate((X_t,np.concatenate((X1,X2,X3,X4), axis=2).reshape(1,55,30,4)),axis=0)"
   ]
  },
  {
   "cell_type": "code",
   "execution_count": 47,
   "id": "2257c58f",
   "metadata": {},
   "outputs": [],
   "source": [
    "img_time = pd.read_csv('berkeleyMHAD/time_stamps_img_s01_a01_r01.csv').values[:,1]\n",
    "Y_time = Y1[2:,3]\n",
    "Y_ = np.zeros((126,3,6))"
   ]
  },
  {
   "cell_type": "code",
   "execution_count": 49,
   "id": "7a2a1c30",
   "metadata": {},
   "outputs": [],
   "source": [
    "ind = []\n",
    "for i in range(125):\n",
    "    if i == 0:\n",
    "        time0= img_time[i]-0.01\n",
    "    else:\n",
    "        time0 = img_time[i-1]\n",
    "    time1 = img_time[i]\n",
    "    sep = (time1-time0)/2\n",
    "    if np.where((Y_time <= img_time[i]+sep)&(Y_time >= img_time[i]-sep))[0].shape[0] == 0:\n",
    "        ind.append(i)\n",
    "    Y_[i] = Y_t[np.where((Y_time <= img_time[i]+sep)&(Y_time >= img_time[i]-sep))[0],:,:].mean()  "
   ]
  },
  {
   "cell_type": "code",
   "execution_count": 50,
   "id": "3a8cda08",
   "metadata": {},
   "outputs": [],
   "source": [
    "Y_t = Y_\n",
    "Y_t = np.delete(Y_t,ind,axis=0)\n",
    "X_t = np.delete(X_t,ind,axis=0)"
   ]
  },
  {
   "cell_type": "code",
   "execution_count": 24,
   "id": "e0bb1345",
   "metadata": {},
   "outputs": [],
   "source": [
    "Y_t = np.load('Y_for_image.npy')\n",
    "X_t = np.load('X_image.npy')\n",
    "Y_m = Y_t.reshape(Y_t.shape[0],-1)\n",
    "X_m = X_t.reshape(X_t.shape[0],-1)"
   ]
  },
  {
   "cell_type": "code",
   "execution_count": 25,
   "id": "3abe2d7d",
   "metadata": {},
   "outputs": [
    {
     "name": "stdout",
     "output_type": "stream",
     "text": [
      "Shape of matrix of features: (956, 2100)\n",
      "Shape of tensor of features: (956, 35, 15, 4)\n",
      "Shape of matrix of targets: (956, 18)\n",
      "Shape of tensor of targets: (956, 3, 6)\n"
     ]
    }
   ],
   "source": [
    "print('Shape of matrix of features:', X_m.shape)\n",
    "print('Shape of tensor of features:', X_t.shape)\n",
    "print('Shape of matrix of targets:', Y_m.shape)\n",
    "print('Shape of tensor of targets:', Y_t.shape)"
   ]
  },
  {
   "cell_type": "code",
   "execution_count": 26,
   "id": "43d5fb85",
   "metadata": {},
   "outputs": [],
   "source": [
    "X_m = (X_m - X_m.mean(axis=0))\n",
    "X_t = (X_t - X_t.mean(axis=0))\n",
    "Y_m = (Y_m - Y_m.mean(axis=0)) / Y_m.std(axis=0)\n",
    "Y_t = (Y_t - Y_t.mean(axis=0)) / Y_t.std(axis=0)\n",
    "X_m_train, X_m_test = X_m[:83,:], X_m[83:,:]\n",
    "Y_m_train, Y_m_test = Y_m[:83,:], Y_m[83:,:]\n",
    "X_t_train, X_t_test = X_t[:83,:,:], X_t[83:,:,:]\n",
    "Y_t_train, Y_t_test = Y_t[:83,:], Y_t[83:,:,:]"
   ]
  },
  {
   "cell_type": "code",
   "execution_count": 27,
   "id": "52af1137",
   "metadata": {},
   "outputs": [
    {
     "data": {
      "text/plain": [
       "False"
      ]
     },
     "execution_count": 27,
     "metadata": {},
     "output_type": "execute_result"
    }
   ],
   "source": [
    "np.isnan(Y_m).any()"
   ]
  },
  {
   "cell_type": "markdown",
   "id": "302ecff2",
   "metadata": {},
   "source": [
    "## PLS"
   ]
  },
  {
   "cell_type": "code",
   "execution_count": 28,
   "id": "eefeaa9f",
   "metadata": {},
   "outputs": [],
   "source": [
    "def get_autoreg_Y(Y, step=1):\n",
    "    if len(Y.shape) == 2:\n",
    "        m, t = Y.shape\n",
    "        ar = np.zeros((m - step + 1, t * step))\n",
    "        for i in range(step):\n",
    "            for k in range(t):\n",
    "                ar[:, i * t + k] = Y[i: m + i - step + 1, k]\n",
    "    else:\n",
    "        m, t, n = Y.shape\n",
    "        ar = np.zeros((m - step + 1, t * step, n))\n",
    "        for i in range(step):\n",
    "            for k in range(t):\n",
    "                for j in range(n):\n",
    "                    ar[:, i * t + k,j] = Y[i: m + i - step + 1, k,j]\n",
    "\n",
    "    return ar\n",
    "\n",
    "def get_bootstrap(X, Y):\n",
    "    n = X.shape[0]\n",
    "    idxs = np.random.choice(np.arange(n), size=n)\n",
    "    return X[idxs], Y[idxs]"
   ]
  },
  {
   "cell_type": "code",
   "execution_count": 29,
   "id": "9b4aabc3",
   "metadata": {},
   "outputs": [],
   "source": [
    "def RMSE(Y_pred,Y):\n",
    "    Y_base = Y.mean(axis=0)\n",
    "    return np.mean(np.sqrt(np.mean((Y - Y_pred) ** 2, axis=0)) / np.sqrt(np.mean((Y - Y_base) ** 2, axis=0)))\n",
    "\n",
    "def q2_m(y_true,y_pred):\n",
    "    return 1 - ((np.linalg.norm(y_true - y_pred) ** 2) / (np.linalg.norm(y_true) ** 2))"
   ]
  },
  {
   "cell_type": "code",
   "execution_count": 30,
   "id": "9cfd4714",
   "metadata": {},
   "outputs": [
    {
     "name": "stderr",
     "output_type": "stream",
     "text": [
      "100%|████████████████████████████████████████████████████████████████████████████████████| 9/9 [00:01<00:00,  5.28it/s]\n"
     ]
    },
    {
     "data": {
      "image/png": "[encoded data removed]",
      "text/plain": [
       "<Figure size 432x360 with 1 Axes>"
      ]
     },
     "metadata": {
      "needs_background": "light"
     },
     "output_type": "display_data"
    },
    {
     "name": "stdout",
     "output_type": "stream",
     "text": [
      "3 components with nRMSE = 1.0282651056677756\n"
     ]
    }
   ],
   "source": [
    "step = 3\n",
    "n_restarts = 5\n",
    "\n",
    "Ytrain_ar, Ytest_ar = get_autoreg_Y(Y_m_train, step), get_autoreg_Y(Y_m_test, step)\n",
    "Xtrain_ar, Xtest_ar = X_m_train[:X_m_train.shape[0] - step + 1], X_m_test[:X_m_test.shape[0] - step + 1]\n",
    "\n",
    "rmse = []\n",
    "for k in tqdm(range(1, 10)):\n",
    "    pls = PLSRegression(n_components=k)\n",
    "    tr = []\n",
    "    te = []\n",
    "    for i in range(n_restarts):\n",
    "        X, Y = get_bootstrap(Xtrain_ar, Ytrain_ar)\n",
    "        pls.fit(X, Y)\n",
    "        tr.append(metric_nmse(X, Y, pls))\n",
    "        te.append(metric_nmse(Xtest_ar, Ytest_ar, pls))\n",
    "    rmse.append((k, tr, te))\n",
    "    \n",
    "x = [r[0] for r in rmse]\n",
    "y1_mean = np.array([np.mean(r[1]) for r in rmse])\n",
    "y2_mean = np.array([np.mean(r[2]) for r in rmse])\n",
    "y1_std = np.array([np.std(r[1]) for r in rmse])\n",
    "y2_std = np.array([np.std(r[2]) for r in rmse])\n",
    "\n",
    "plt.figure(figsize=(6, 5))\n",
    "\n",
    "plt.plot(x, y1_mean, label='train')\n",
    "plt.fill_between(x, y1_mean - y1_std, y1_mean + y1_std, alpha=0.3)\n",
    "\n",
    "plt.plot(x, y2_mean, label='test')\n",
    "plt.fill_between(x, y2_mean - y2_std, y2_mean + y2_std, alpha=0.3)\n",
    "plt.ylabel(r'sRMSE')\n",
    "plt.xlabel(r'PLS latent space dimensionality, $l$')\n",
    "\n",
    "plt.legend(loc='upper right')\n",
    "plt.tight_layout()\n",
    "plt.savefig('ECoG_PLS.pdf', format='pdf')\n",
    "plt.show()\n",
    "    \n",
    "print(np.argmin(np.array(y2_mean))+1,'components with nRMSE =', min(y2_mean))"
   ]
  },
  {
   "cell_type": "code",
   "execution_count": 31,
   "id": "8a1beab6",
   "metadata": {},
   "outputs": [
    {
     "name": "stdout",
     "output_type": "stream",
     "text": [
      "Time: 0.1602036952972412\n",
      "Train rmse: 0.7405763323260027 ± 0.042770590654011134\n",
      "Test rmse: 1.0322353552343095 ± 0.042770590654011134\n"
     ]
    }
   ],
   "source": [
    "from time import time\n",
    "start = time()\n",
    "pls = PLSRegression(n_components=np.argmin(np.array(y2_mean))+1)\n",
    "tr = []\n",
    "te = []\n",
    "for i in range(n_restarts):\n",
    "    X, Y = get_bootstrap(Xtrain_ar, Ytrain_ar)\n",
    "    pls.fit(X, Y)\n",
    "    tr.append(metric_nmse(X, Y, pls))\n",
    "    te.append(metric_nmse(Xtest_ar, Ytest_ar, pls))\n",
    "end = time()\n",
    "PLS_time = end-start\n",
    "PLS_rmse_test = np.mean(te)\n",
    "PLS_rmse_train = np.mean(tr)\n",
    "PLS_rmse_test_std = np.std(te)\n",
    "PLS_rmse_train_std = np.std(te)\n",
    "print('Time:', PLS_time)\n",
    "print('Train rmse:', PLS_rmse_train,'±',PLS_rmse_train_std)\n",
    "print('Test rmse:', PLS_rmse_test,'±',PLS_rmse_test_std)"
   ]
  },
  {
   "cell_type": "markdown",
   "id": "168004eb",
   "metadata": {},
   "source": [
    "## QPFS + PLS"
   ]
  },
  {
   "cell_type": "code",
   "execution_count": 32,
   "id": "bcb21208",
   "metadata": {},
   "outputs": [
    {
     "name": "stdout",
     "output_type": "stream",
     "text": [
      "step 3\n",
      "(81, 54) (81, 2100) (871, 54) (871, 2100)\n",
      "step 5\n",
      "(79, 90) (79, 2100) (869, 90) (869, 2100)\n",
      "step 7\n",
      "(77, 126) (77, 2100) (867, 126) (867, 2100)\n"
     ]
    }
   ],
   "source": [
    "n_samples, n_features = X_m_train.shape\n",
    "qpfs = QPFS()\n",
    "mqpfs = MultivariateQPFS()\n",
    "steps = [3, 5, 7]\n",
    "n_restarts = 3\n",
    "modes = ['RelAgg','AsymImp']\n",
    "\n",
    "for step in steps:\n",
    "    Ytrain_ar, Ytest_ar = get_autoreg_Y(Y_m_train, step), get_autoreg_Y(Y_m_test, step)\n",
    "    Xtrain_ar, Xtest_ar = X_m_train[:X_m_train.shape[0] - step + 1], X_m_test[:X_m_test.shape[0] - step + 1]\n",
    "    print('step', step)\n",
    "    print(Ytrain_ar.shape, Xtrain_ar.shape, Ytest_ar.shape, Xtest_ar.shape)\n",
    "\n",
    "    qpfs.fit(Xtrain_ar, Ytrain_ar)\n",
    "    \n",
    "    score_history = [qpfs.zx]\n",
    "    \n",
    "    mqpfs.get_params(Xtrain_ar, Ytrain_ar)\n",
    "    for mode in modes[1:]:\n",
    "        alphas = mqpfs.get_alpha(mode)\n",
    "        mqpfs.solve_problem(alphas, mode)\n",
    "        score_history.append(mqpfs.zx)\n",
    "    \n",
    "    n_active_array = np.arange(1, n_features // 2, 10)\n",
    "    \n",
    "    for i in range(n_restarts):\n",
    "        X, Y = get_bootstrap(Xtrain_ar, Ytrain_ar)\n",
    "        results = get_metrics(n_active_array, modes, score_history, \n",
    "                              X, Y, Xtest_ar, Ytest_ar)"
   ]
  },
  {
   "cell_type": "code",
   "execution_count": 33,
   "id": "5f068097",
   "metadata": {},
   "outputs": [
    {
     "name": "stdout",
     "output_type": "stream",
     "text": [
      "AsymImp\n",
      "corr 0.908 $\\pm$ 0.000\n",
      "l2 0.011 $\\pm$ 0.000\n",
      "l1 0.357 $\\pm$ 0.000\n",
      "comp 1441.5 $\\pm$ 22.5\n",
      "ham 0.083 $\\pm$ 0.000\n",
      "rmse 16.509 $\\pm$ 3.817\n",
      "--------------------------------------------------------------------------------\n"
     ]
    }
   ],
   "source": [
    "from itertools import combinations\n",
    "lr = LinearRegression()\n",
    "step = 3\n",
    "n_restarts = 3\n",
    "\n",
    "modes = ['RelAgg', 'AsymImp']\n",
    "\n",
    "Ytrain_ar, Ytest_ar = get_autoreg_Y(Y_m_train, step), get_autoreg_Y(Y_m_test, step)\n",
    "Xtrain_ar, Xtest_ar = X_m_train[:X_m_train.shape[0] - step + 1], X_m_test[:X_m_test.shape[0] - step + 1]\n",
    "\n",
    "for i in range(1,2):\n",
    "    print(modes[i])\n",
    "    sh = [np.array(s)[:n_features] for s in score_history]\n",
    "    corrs = []\n",
    "    l2s = []\n",
    "    l1s = []\n",
    "    comps = []\n",
    "    hams = []\n",
    "    rmse = []\n",
    "    for s1, s2 in combinations(sh, 2):\n",
    "        corrs.append(sc.stats.spearmanr(s1, s2)[0])\n",
    "        l2s.append(np.sqrt(np.sum((s1 - s2) ** 2)))\n",
    "        l1s.append(np.sum(np.abs(s1 - s2)))\n",
    "        hams.append(sc.spatial.distance.hamming(s1 > 1e-3, s2 > 1e-3))\n",
    "        \n",
    "    for s1 in sh:\n",
    "        comps.append(np.sum(s1 > 1e-6))\n",
    "        active_idxs = s1.argsort()[::-1][:100]#[:np.sum(s1 > 1e-3)]\n",
    "        lr.fit(Xtrain_ar[:, active_idxs], Ytrain_ar)\n",
    "        rmse.append(metric_rmse(Xtest_ar[:, active_idxs], Ytest_ar, lr))\n",
    "    mean_corr = np.mean(corrs)\n",
    "    std_corr = np.std(corrs)\n",
    "    \n",
    "    mean_l2 = np.mean(l2s)\n",
    "    std_l2 = np.std(l2s)\n",
    "    \n",
    "    mean_l1 = np.mean(l1s)\n",
    "    std_l1 = np.std(l1s)\n",
    "    \n",
    "    mean_comp = np.mean(comps)\n",
    "    std_comp = np.std(comps)\n",
    "    \n",
    "    mean_ham = np.mean(hams)\n",
    "    std_ham = np.std(hams)\n",
    "    \n",
    "    mean_rmse = np.mean(rmse)\n",
    "    std_rmse = np.std(rmse)\n",
    "    \n",
    "    print(f'corr {mean_corr:.3f} $\\pm$ {std_corr:.3f}')\n",
    "    print(f'l2 {mean_l2:.3f} $\\pm$ {std_l2:.3f}')\n",
    "    print(f'l1 {mean_l1:.3f} $\\pm$ {std_l1:.3f}')\n",
    "    print(f'comp {mean_comp:.1f} $\\pm$ {std_comp:.1f}')\n",
    "    print(f'ham {mean_ham:.3f} $\\pm$ {std_ham:.3f}')\n",
    "    print(f'rmse {mean_rmse:.3f} $\\pm$ {std_rmse:.3f}')\n",
    "    print('-' * 80)"
   ]
  },
  {
   "cell_type": "code",
   "execution_count": 34,
   "id": "0c916ef5",
   "metadata": {},
   "outputs": [
    {
     "name": "stderr",
     "output_type": "stream",
     "text": [
      "100%|████████████████████████████████████████████████████████████████████████████████████| 9/9 [00:00<00:00, 24.59it/s]\n"
     ]
    },
    {
     "data": {
      "image/png": "[encoded data removed]",
      "text/plain": [
       "<Figure size 432x360 with 1 Axes>"
      ]
     },
     "metadata": {
      "needs_background": "light"
     },
     "output_type": "display_data"
    },
    {
     "name": "stdout",
     "output_type": "stream",
     "text": [
      "1 components with nRMSE = 1.6690999149764856\n"
     ]
    }
   ],
   "source": [
    "n_restarts = 5\n",
    "step = 3\n",
    "\n",
    "Ytrain_ar, Ytest_ar = get_autoreg_Y(Y_m_train, step), get_autoreg_Y(Y_m_test, step)\n",
    "Xtrain_ar, Xtest_ar = X_m_train[:X_m_train.shape[0] - step + 1,active_idxs], X_m_test[:X_m_test.shape[0] - step + 1,active_idxs]\n",
    "\n",
    "rmse = []\n",
    "for k in tqdm(range(1, 10)):\n",
    "    pls = PLSRegression(n_components=k)\n",
    "    tr = []\n",
    "    te = []\n",
    "    for i in range(n_restarts):\n",
    "        X, Y = get_bootstrap(Xtrain_ar, Ytrain_ar)\n",
    "        pls.fit(X, Y)\n",
    "        tr.append(metric_nmse(X, Y, pls))\n",
    "        te.append(metric_nmse(Xtest_ar, Ytest_ar, pls))\n",
    "    rmse.append((k, tr, te))\n",
    "    \n",
    "x = [r[0] for r in rmse]\n",
    "y1_mean = np.array([np.mean(r[1]) for r in rmse])\n",
    "y2_mean = np.array([np.mean(r[2]) for r in rmse])\n",
    "y1_std = np.array([np.std(r[1]) for r in rmse])\n",
    "y2_std = np.array([np.std(r[2]) for r in rmse])\n",
    "\n",
    "plt.figure(figsize=(6, 5))\n",
    "\n",
    "plt.plot(x, y1_mean, label='train')\n",
    "plt.fill_between(x, y1_mean - y1_std, y1_mean + y1_std, alpha=0.3)\n",
    "\n",
    "plt.plot(x, y2_mean, label='test')\n",
    "plt.fill_between(x, y2_mean - y2_std, y2_mean + y2_std, alpha=0.3)\n",
    "plt.ylabel(r'sRMSE')\n",
    "plt.xlabel(r'PLS latent space dimensionality, $l$')\n",
    "\n",
    "plt.legend(loc='upper right')\n",
    "plt.tight_layout()\n",
    "plt.savefig('ECoG_QPFS+PLS.pdf', format='pdf')\n",
    "plt.show()\n",
    "    \n",
    "print(np.argmin(np.array(y2_mean))+1,'components with nRMSE =', min(y2_mean))"
   ]
  },
  {
   "cell_type": "code",
   "execution_count": 35,
   "id": "e54e9c61",
   "metadata": {},
   "outputs": [
    {
     "name": "stdout",
     "output_type": "stream",
     "text": [
      "Time: 19.250603675842285\n",
      "Train rmse: 0.8401506465603903 ± 0.2800720862124846\n",
      "Test rmse: 1.6367252186694459 ± 0.2800720862124846\n"
     ]
    }
   ],
   "source": [
    "step = 3\n",
    "mode = 'AsymImp'\n",
    "n_samples, n_features = X_m_train.shape\n",
    "Ytrain_ar, Ytest_ar = get_autoreg_Y(Y_m_train, step), get_autoreg_Y(Y_m_test, step)\n",
    "Xtrain_ar, Xtest_ar = X_m_train[:X_m_train.shape[0] - step + 1], X_m_test[:X_m_test.shape[0] - step + 1]\n",
    "\n",
    "start = time()\n",
    "\n",
    "qpfs.fit(Xtrain_ar, Ytrain_ar)\n",
    "\n",
    "score_history = [qpfs.zx]\n",
    "\n",
    "mqpfs.get_params(Xtrain_ar, Ytrain_ar)\n",
    "alphas = mqpfs.get_alpha(mode)\n",
    "mqpfs.solve_problem(alphas, mode)\n",
    "score_history.append(mqpfs.zx)\n",
    "\n",
    "n_active_array = np.arange(1, n_features // 2, 10)\n",
    "\n",
    "for s1 in sh:\n",
    "    comps.append(np.sum(s1 > 1e-6))\n",
    "    active_idxs = s1.argsort()[::-1][:100]\n",
    "\n",
    "Xtrain_ar, Xtest_ar = X_m_train[:X_m_train.shape[0] - step + 1,active_idxs], X_m_test[:X_m_test.shape[0] - step + 1,active_idxs]\n",
    "pls = PLSRegression(n_components=np.argmin(np.array(y2_mean))+1)\n",
    "tr = []\n",
    "te = []\n",
    "for i in range(n_restarts):\n",
    "    X, Y = get_bootstrap(Xtrain_ar, Ytrain_ar)\n",
    "    pls.fit(X, Y)\n",
    "    tr.append(metric_nmse(X, Y, pls))\n",
    "    te.append(metric_nmse(Xtest_ar, Ytest_ar, pls))\n",
    "    \n",
    "end = time()\n",
    "QPFS_PLS_time = end-start\n",
    "QPFS_PLS_rmse_test = np.mean(te)\n",
    "QPFS_PLS_rmse_train = np.mean(tr)\n",
    "QPFS_PLS_rmse_test_std = np.std(te)\n",
    "QPFS_PLS_rmse_train_std = np.std(te)\n",
    "print('Time:', QPFS_PLS_time)\n",
    "print('Train rmse:', QPFS_PLS_rmse_train,'±',QPFS_PLS_rmse_train_std)\n",
    "print('Test rmse:', QPFS_PLS_rmse_test,'±',QPFS_PLS_rmse_test_std)"
   ]
  },
  {
   "cell_type": "markdown",
   "id": "762a0e14",
   "metadata": {},
   "source": [
    "## HOPLS"
   ]
  },
  {
   "cell_type": "code",
   "execution_count": 39,
   "id": "fea4fdd5",
   "metadata": {},
   "outputs": [],
   "source": [
    "from GenerateData import generateComplex\n",
    "import os\n",
    "import sys\n",
    "import warnings\n",
    "import torch\n",
    "import numpy as np\n",
    "from sklearn.cross_decomposition import PLSRegression\n",
    "from sklearn.model_selection import KFold\n",
    "from scipy.io import loadmat, savemat\n",
    "from joblib import Parallel, delayed\n",
    "from hopls import matricize, qsquared, HOPLS\n",
    "import tensorly as tl\n",
    "\n",
    "def compute_rmse_pls(tdata, tlabel, vdata, vlabel, Rval):\n",
    "    test = PLSRegression(n_components=Rval,scale=False,max_iter=1000,tol=1e-5)\n",
    "    with warnings.catch_warnings():\n",
    "        warnings.simplefilter(\"ignore\")\n",
    "        test.fit(matricize(tdata), matricize(tlabel))\n",
    "    Y_pred = test.predict(matricize(vdata))\n",
    "    Q2 = qsquared(matricize(vlabel), matricize(Y_pred))\n",
    "    return Q2\n",
    "\n",
    "def compute_rmse_hopls(tdata, tlabel, vdata, vlabel, la, R_max=20):\n",
    "    Ln = [la] * (len(tdata.shape) - 1)\n",
    "    if len(tlabel.shape) > 2:\n",
    "        Km = [la] * (len(tlabel.shape) - 1)\n",
    "    else:\n",
    "        Km = None\n",
    "    test = HOPLS(R_max, Ln, Km)\n",
    "    test.fit(tdata, tlabel)\n",
    "    label_pred_train, r_train, _ = test.predict(tdata, tlabel)\n",
    "    label_pred_test, r_test, _ = test.predict(vdata, vlabel)\n",
    "    rmse_train = RMSE(label_pred_train.numpy(),tlabel.numpy())\n",
    "    rmse_test = RMSE(label_pred_test.numpy(),vlabel.numpy())\n",
    "    return rmse_train, rmse_test\n"
   ]
  },
  {
   "cell_type": "code",
   "execution_count": 40,
   "id": "3f267225",
   "metadata": {},
   "outputs": [],
   "source": [
    "RMSE_hopls = []\n",
    "\n",
    "Ytrain_ar, Ytest_ar = get_autoreg_Y(Y_t_train, step), get_autoreg_Y(Y_t_test, step)\n",
    "Xtrain_ar, Xtest_ar = X_t_train[:X_t_train.shape[0] - step + 1], X_t_test[:X_t_test.shape[0] - step + 1]\n",
    "for R in range(1,81,10):\n",
    "    for l in range(1,7,3):\n",
    "        rmse_tr, rmse_te = compute_rmse_hopls(torch.tensor(Xtrain_ar),torch.tensor(Ytrain_ar), torch.tensor(Xtest_ar), torch.tensor(Ytest_ar),l,R)\n",
    "        RMSE_hopls.append([R,l,rmse_tr,rmse_te])"
   ]
  },
  {
   "cell_type": "code",
   "execution_count": 41,
   "id": "0149a183",
   "metadata": {},
   "outputs": [
    {
     "name": "stdout",
     "output_type": "stream",
     "text": [
      "RMSE fo test: 0.9288043345713638 4 31\n"
     ]
    }
   ],
   "source": [
    "y2_mean = np.array([r[3] for r in RMSE_hopls])\n",
    "R = RMSE_hopls[np.argmin(y2_mean)][0]\n",
    "l = RMSE_hopls[np.argmin(y2_mean)][1]\n",
    "print('RMSE fo test:', RMSE_hopls[np.argmin(y2_mean)][3],l,R)"
   ]
  },
  {
   "cell_type": "code",
   "execution_count": 43,
   "id": "427bffa1",
   "metadata": {},
   "outputs": [
    {
     "data": {
      "text/plain": [
       "<Figure size 432x360 with 0 Axes>"
      ]
     },
     "metadata": {},
     "output_type": "display_data"
    },
    {
     "data": {
      "image/png": "[encoded data removed]",
      "text/plain": [
       "<Figure size 432x360 with 1 Axes>"
      ]
     },
     "metadata": {
      "needs_background": "light"
     },
     "output_type": "display_data"
    },
    {
     "name": "stdout",
     "output_type": "stream",
     "text": [
      "41 components with nRMSE = 0.9288043345713638\n"
     ]
    }
   ],
   "source": [
    "plt.figure(figsize=(6, 5))\n",
    "x = np.array(range(1,81,10))\n",
    "y1_mean = np.array([np.mean(r[2]) for r in RMSE_hopls])[np.where(np.array([r[1] for r in RMSE_hopls])==4)]\n",
    "y2_mean = np.array([np.mean(r[3]) for r in RMSE_hopls])[np.where(np.array([r[1] for r in RMSE_hopls])==4)]\n",
    "\n",
    "plt.figure(figsize=(6, 5))\n",
    "\n",
    "plt.plot(x, y1_mean, label='train')\n",
    "\n",
    "plt.plot(x, y2_mean, label='test')\n",
    "plt.ylabel(r'sRMSE')\n",
    "plt.xlabel(r'PLS latent space dimensionality, $l$')\n",
    "\n",
    "plt.legend(loc='upper right')\n",
    "plt.tight_layout()\n",
    "plt.savefig('ECoG_HOPLS.pdf', format='pdf')\n",
    "plt.show()\n",
    "    \n",
    "print(x[np.argmin(np.array(y2_mean))+1],'components with nRMSE =', min(y2_mean))"
   ]
  },
  {
   "cell_type": "code",
   "execution_count": 44,
   "id": "1eea8c69",
   "metadata": {},
   "outputs": [
    {
     "name": "stdout",
     "output_type": "stream",
     "text": [
      "Time: 15.437209129333496\n",
      "Train rmse: 0.6712854341731449 ± 7.021666937153402e-17\n",
      "Test rmse: 0.9288043345713639 ± 7.021666937153402e-17\n"
     ]
    }
   ],
   "source": [
    "from time import time\n",
    "n_restarts = 5\n",
    "start = time()\n",
    "tr = []\n",
    "te = []\n",
    "for i in range(n_restarts):\n",
    "    rmse_tr, rmse_te = compute_rmse_hopls(torch.tensor(Xtrain_ar),torch.tensor(Ytrain_ar), torch.tensor(Xtest_ar), torch.tensor(Ytest_ar),l,R)\n",
    "    tr.append(rmse_tr)\n",
    "    te.append(rmse_te)\n",
    "end = time()\n",
    "HOPLS_time = end-start\n",
    "HOPLS_rmse_test = np.mean(te)\n",
    "HOPLS_rmse_train = np.mean(tr)\n",
    "HOPLS_rmse_test_std = np.std(te)\n",
    "HOPLS_rmse_train_std = np.std(te)\n",
    "print('Time:', HOPLS_time)\n",
    "print('Train rmse:', HOPLS_rmse_train,'±',HOPLS_rmse_train_std)\n",
    "print('Test rmse:', HOPLS_rmse_test,'±',HOPLS_rmse_test_std)"
   ]
  },
  {
   "cell_type": "markdown",
   "id": "82e9280f",
   "metadata": {},
   "source": [
    "## 2D-PCA then PLS"
   ]
  },
  {
   "cell_type": "code",
   "execution_count": 45,
   "id": "4f85e4e6",
   "metadata": {},
   "outputs": [],
   "source": [
    "import numpy as np\n",
    "import scipy.linalg as s_linalg\n",
    "\n",
    "\n",
    "class two_d_pca_class:\n",
    "\n",
    "\n",
    "    def give_p(self, d):\n",
    "        #print(\"D\", d)\n",
    "        sum = np.sum(d)\n",
    "        sum_85 = self.p * sum\n",
    "        temp = 0\n",
    "        p = 0\n",
    "        while temp < sum_85:\n",
    "            temp += d[p]\n",
    "            p += 1\n",
    "        return p\n",
    "\n",
    "    def reduce_dim(self):\n",
    "\n",
    "        no_of_images = self.images.shape[0]\n",
    "        mat_height = self.images.shape[1]\n",
    "        mat_width = self.images.shape[2]\n",
    "        g_t = np.zeros((mat_width, mat_width))\n",
    "        h_t = np.zeros((mat_height, mat_height))\n",
    "\n",
    "        for i in range(no_of_images):\n",
    "            temp = np.dot(self.images_mean_subtracted[i].T, self.images_mean_subtracted[i])\n",
    "            #print(temp.shape,g_t.shape,h_t.shape)\n",
    "            g_t += temp\n",
    "            h_t += np.dot(self.images_mean_subtracted[i], self.images_mean_subtracted[i].T)\n",
    "\n",
    "        g_t /= no_of_images\n",
    "        h_t /= no_of_images\n",
    "\n",
    "        #For G_T\n",
    "        d_mat, p_mat = np.linalg.eig(g_t)\n",
    "        p_1 = self.give_p(d_mat)\n",
    "        self.new_bases_gt = p_mat[:, 0:p_1]\n",
    "\n",
    "        #For H_T\n",
    "        d_mat, p_mat = np.linalg.eig(h_t)\n",
    "        p_2 = self.give_p(d_mat)\n",
    "        self.new_bases_ht = p_mat[:, 0:p_2]\n",
    "\n",
    "\n",
    "        new_coordinates_temp = np.dot(self.images, self.new_bases_gt)\n",
    "\n",
    "        self.new_coordinates = np.zeros((no_of_images, p_2, p_1))\n",
    "\n",
    "        for i in range(no_of_images):\n",
    "            self.new_coordinates[i, :, :] = np.dot(self.new_bases_ht.T, new_coordinates_temp[i])\n",
    "\n",
    "        return self.new_coordinates\n",
    "\n",
    "\n",
    "    def __init__(self, images,p):\n",
    "        self.images = np.asarray(images)\n",
    "        self.mean_face = np.mean(self.images, 0)\n",
    "        self.p = p\n",
    "        self.images_mean_subtracted = self.images - self.mean_face\n",
    "\n",
    "\n",
    "    def original_data(self, new_coordinates):\n",
    "        return np.dot(self.new_bases_ht, np.dot(new_coordinates, self.new_bases_gt.T))\n",
    "\n",
    "\n",
    "    def new_cord_for_image(self, image):\n",
    "        new_image = np.zeros((image.shape[0],self.new_bases_ht.shape[1],self.new_bases_gt.shape[1]))\n",
    "        for i in range(image.shape[0]):\n",
    "            new_image[i,:,:] = np.dot(self.new_bases_ht.T, np.dot(image[i,:,:], self.new_bases_gt))\n",
    "        return new_image"
   ]
  },
  {
   "cell_type": "code",
   "execution_count": 47,
   "id": "d50ce313",
   "metadata": {},
   "outputs": [],
   "source": [
    "n_restarts = 5\n",
    "rmse = []\n",
    "X_t_train_, X_t_test_ = X_t_train.reshape(X_t_train.shape[0],15,-1), X_t_test.reshape(X_t_test.shape[0],15,-1)\n",
    "Ytrain_ar, Ytest_ar = get_autoreg_Y(Y_m_train, step), get_autoreg_Y(Y_m_test, step)\n",
    "Xtrain_ar, Xtest_ar = X_t_train_[:X_t_train_.shape[0] - step + 1], X_t_test_[:X_t_test_.shape[0] - step + 1]\n",
    "for p in np.arange(0.95,0.999,0.005):\n",
    "        pca = two_d_pca_class(Xtrain_ar,p)\n",
    "        X_n_train = pca.reduce_dim().reshape(Xtrain_ar.shape[0],-1)\n",
    "        X_n_test = pca.new_cord_for_image(Xtest_ar).reshape(Xtest_ar.shape[0],-1)\n",
    "        for k in range(1, 4):\n",
    "            pls = PLSRegression(n_components=k)\n",
    "            tr = []\n",
    "            te = []\n",
    "            for i in range(n_restarts):\n",
    "                X, Y = get_bootstrap(X_n_train, Ytrain_ar)\n",
    "                pls.fit(X, Y)\n",
    "                tr.append(metric_nmse(X, Y, pls))\n",
    "                te.append(metric_nmse(X_n_test, Ytest_ar, pls))\n",
    "            rmse.append((k, tr, te, p))"
   ]
  },
  {
   "cell_type": "code",
   "execution_count": 48,
   "id": "93f37726",
   "metadata": {},
   "outputs": [
    {
     "name": "stdout",
     "output_type": "stream",
     "text": [
      "percentage of information: 95.0 RMSE fo test: 0.959012335656249\n"
     ]
    }
   ],
   "source": [
    "y2_mean = np.array([np.mean(r[2]) for r in rmse])\n",
    "p = rmse[np.argmin(y2_mean)][3]\n",
    "print('percentage of information:', round(p*100,2), 'RMSE fo test:', np.mean(rmse[np.argmin(y2_mean)][2]))"
   ]
  },
  {
   "cell_type": "code",
   "execution_count": 51,
   "id": "6c1ed4be",
   "metadata": {},
   "outputs": [
    {
     "name": "stderr",
     "output_type": "stream",
     "text": [
      " 14%|███████████▊                                                                       | 2/14 [00:00<00:00, 15.50it/s]"
     ]
    },
    {
     "name": "stdout",
     "output_type": "stream",
     "text": [
      "(83, 1185) (873, 1185)\n"
     ]
    },
    {
     "name": "stderr",
     "output_type": "stream",
     "text": [
      "100%|██████████████████████████████████████████████████████████████████████████████████| 14/14 [00:01<00:00,  8.23it/s]\n"
     ]
    },
    {
     "data": {
      "image/png": "[encoded data removed]",
      "text/plain": [
       "<Figure size 432x360 with 1 Axes>"
      ]
     },
     "metadata": {
      "needs_background": "light"
     },
     "output_type": "display_data"
    },
    {
     "name": "stdout",
     "output_type": "stream",
     "text": [
      "3 components with nRMSE = 0.9580936532747654\n"
     ]
    }
   ],
   "source": [
    "pca = two_d_pca_class(X_t_train_,p)\n",
    "X_n_train = pca.reduce_dim().reshape(X_t_train_.shape[0],-1)\n",
    "X_n_test = pca.new_cord_for_image(X_t_test_).reshape(X_t_test_.shape[0],-1)\n",
    "print(X_n_train.shape,X_n_test.shape)\n",
    "n_restarts = 5\n",
    "step = 3\n",
    "\n",
    "Ytrain_ar, Ytest_ar = get_autoreg_Y(Y_m_train, step), get_autoreg_Y(Y_m_test, step)\n",
    "Xtrain_ar, Xtest_ar = X_n_train[:X_n_train.shape[0] - step + 1,], X_n_test[:X_n_test.shape[0] - step + 1]\n",
    "\n",
    "rmse = []\n",
    "for k in tqdm(range(1, 15)):\n",
    "    pls = PLSRegression(n_components=k)\n",
    "    tr = []\n",
    "    te = []\n",
    "    for i in range(n_restarts):\n",
    "        X, Y = get_bootstrap(Xtrain_ar, Ytrain_ar)\n",
    "        pls.fit(X, Y)\n",
    "        tr.append(metric_nmse(X, Y, pls))\n",
    "        te.append(metric_nmse(Xtest_ar, Ytest_ar, pls))\n",
    "    rmse.append((k, tr, te))\n",
    "    \n",
    "x = [r[0] for r in rmse]\n",
    "y1_mean = np.array([np.mean(r[1]) for r in rmse])\n",
    "y2_mean = np.array([np.mean(r[2]) for r in rmse])\n",
    "y1_std = np.array([np.std(r[1]) for r in rmse])\n",
    "y2_std = np.array([np.std(r[2]) for r in rmse])\n",
    "\n",
    "plt.figure(figsize=(6, 5))\n",
    "\n",
    "plt.plot(x, y1_mean, label='train')\n",
    "plt.fill_between(x, y1_mean - y1_std, y1_mean + y1_std, alpha=0.3)\n",
    "\n",
    "plt.plot(x, y2_mean, label='test')\n",
    "plt.fill_between(x, y2_mean - y2_std, y2_mean + y2_std, alpha=0.3)\n",
    "plt.ylabel(r'sRMSE')\n",
    "plt.xlabel(r'PLS latent space dimensionality, $l$')\n",
    "\n",
    "plt.legend(loc='upper right')\n",
    "plt.tight_layout()\n",
    "plt.savefig('ECoG_MPCA+PLS.pdf', format='pdf')\n",
    "plt.show()\n",
    "    \n",
    "print(np.argmin(np.array(y2_mean))+1,'components with nRMSE =', min(y2_mean))"
   ]
  },
  {
   "cell_type": "code",
   "execution_count": 53,
   "id": "8ed0aa13",
   "metadata": {},
   "outputs": [
    {
     "name": "stdout",
     "output_type": "stream",
     "text": [
      "Time: 0.14699625968933105\n",
      "Train rmse: 0.7249454860858953 ± 0.008070860393496025\n",
      "Test rmse: 0.9603899909985205 ± 0.008070860393496025\n"
     ]
    }
   ],
   "source": [
    "n_restarts = 5\n",
    "start = time()\n",
    "pca = two_d_pca_class(X_t_train_,p)\n",
    "X_n_train = pca.reduce_dim().reshape(X_t_train_.shape[0],-1)\n",
    "X_n_test = pca.new_cord_for_image(X_t_test_).reshape(X_t_test_.shape[0],-1)\n",
    "step = 3\n",
    "\n",
    "Ytrain_ar, Ytest_ar = get_autoreg_Y(Y_m_train, step), get_autoreg_Y(Y_m_test, step)\n",
    "Xtrain_ar, Xtest_ar = X_n_train[:X_n_train.shape[0] - step + 1,], X_n_test[:X_n_test.shape[0] - step + 1]\n",
    "pls = PLSRegression(n_components=np.argmin(np.array(y2_mean))+1)\n",
    "tr = []\n",
    "te = []\n",
    "for i in range(n_restarts):\n",
    "    X, Y = get_bootstrap(Xtrain_ar, Ytrain_ar)\n",
    "    pls.fit(X, Y)\n",
    "    tr.append(metric_nmse(X, Y, pls))\n",
    "    te.append(metric_nmse(Xtest_ar, Ytest_ar, pls))\n",
    "end = time()\n",
    "MPCA_PLS_time = end-start\n",
    "MPCA_PLS_rmse_test = np.mean(te)\n",
    "MPCA_PLS_rmse_train = np.mean(tr)\n",
    "MPCA_PLS_rmse_test_std = np.std(te)\n",
    "MPCA_PLS_rmse_train_std = np.std(te)\n",
    "print('Time:', MPCA_PLS_time)\n",
    "print('Train rmse:', MPCA_PLS_rmse_train,'±',MPCA_PLS_rmse_train_std)\n",
    "print('Test rmse:', MPCA_PLS_rmse_test,'±',MPCA_PLS_rmse_test_std)"
   ]
  },
  {
   "cell_type": "markdown",
   "id": "8ee9b438",
   "metadata": {},
   "source": [
    "## 2d-PCA + HOPLS"
   ]
  },
  {
   "cell_type": "code",
   "execution_count": null,
   "id": "28419a63",
   "metadata": {},
   "outputs": [],
   "source": [
    "RMSE_pca_hopls = []\n",
    "Ytrain_ar, Ytest_ar = get_autoreg_Y(Y_t_train, step), get_autoreg_Y(Y_t_test, step)\n",
    "Xtrain_ar, Xtest_ar = X_t_train_[:X_t_train_.shape[0] - step + 1], X_t_test_[:X_t_test_.shape[0] - step + 1]\n",
    "for p in np.arange(0.98,0.999,0.005):\n",
    "        pca = two_d_pca_class(Xtrain_ar,p)\n",
    "        X_n_train = pca.reduce_dim()\n",
    "        X_n_test = pca.new_cord_for_image(Xtest_ar)\n",
    "        for R in range(5,30,3):\n",
    "            for l in range(1,10,2):\n",
    "                rmse_tr, rmse_te = compute_rmse_hopls(torch.tensor(X_n_train),torch.tensor(Ytrain_ar), torch.tensor(X_n_test), torch.tensor(Ytest_ar),l,R)\n",
    "                #Q_hopls.append([R,l,Q])\n",
    "                RMSE_pca_hopls.append([p,R,l,rmse_tr, rmse_te])\n",
    "y2_mean = np.array([r[4] for r in RMSE_pca_hopls])\n",
    "p = RMSE_pca_hopls[np.argmin(y2_mean)][0]\n",
    "R = RMSE_pca_hopls[np.argmin(y2_mean)][1]\n",
    "l = RMSE_pca_hopls[np.argmin(y2_mean)][2]\n",
    "print('Test rmse:', RMSE_pca_hopls[np.argmin(y2_mean)][4])"
   ]
  },
  {
   "cell_type": "code",
   "execution_count": null,
   "id": "1e12a2be",
   "metadata": {},
   "outputs": [],
   "source": [
    "n_restarts = 5\n",
    "start = time()\n",
    "pca = two_d_pca_class(X_t_train_,p)\n",
    "X_n_train = pca.reduce_dim()\n",
    "X_n_test = pca.new_cord_for_image(X_t_test_)\n",
    "step = 3\n",
    "\n",
    "Ytrain_ar, Ytest_ar = get_autoreg_Y(Y_t_train, step), get_autoreg_Y(Y_t_test, step)\n",
    "Xtrain_ar, Xtest_ar = X_n_train[:X_n_train.shape[0] - step + 1,], X_n_test[:X_n_test.shape[0] - step + 1]\n",
    "tr = []\n",
    "te = []\n",
    "for i in range(n_restarts):\n",
    "    rmse_tr, rmse_te = compute_rmse_hopls(torch.tensor(Xtrain_ar),torch.tensor(Ytrain_ar), torch.tensor(Xtest_ar), torch.tensor(Ytest_ar),l,R)\n",
    "    tr.append(rmse_tr)\n",
    "    te.append(rmse_te)\n",
    "end = time()\n",
    "MPCA_HOPLS_time = end-start\n",
    "MPCA_HOPLS_rmse_test = np.mean(te)\n",
    "MPCA_HOPLS_rmse_train = np.mean(tr)\n",
    "MPCA_HOPLS_rmse_test_std = np.std(te)\n",
    "MPCA_HOPLS_rmse_train_std = np.std(te)\n",
    "print('Time:', MPCA_HOPLS_time)\n",
    "print('Train rmse:', MPCA_HOPLS_rmse_train,'±',MPCA_HOPLS_rmse_train_std)\n",
    "print('Test rmse:', MPCA_HOPLS_rmse_test,'±',MPCA_HOPLS_rmse_test_std)"
   ]
  },
  {
   "cell_type": "code",
   "execution_count": null,
   "id": "a99f59dc",
   "metadata": {},
   "outputs": [],
   "source": []
  }
 ],
 "metadata": {
  "kernelspec": {
   "display_name": "Python 3",
   "language": "python",
   "name": "python3"
  },
  "language_info": {
   "codemirror_mode": {
    "name": "ipython",
    "version": 3
   },
   "file_extension": ".py",
   "mimetype": "text/x-python",
   "name": "python",
   "nbconvert_exporter": "python",
   "pygments_lexer": "ipython3",
   "version": "3.8.8"
  }
 },
 "nbformat": 4,
 "nbformat_minor": 5
}
