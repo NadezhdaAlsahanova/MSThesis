{
 "cells": [
  {
   "cell_type": "code",
   "execution_count": null,
   "metadata": {},
   "outputs": [],
   "source": [
    "import numpy as np\n",
    "import pandas as pd\n",
    "from matplotlib.backends.backend_pdf import PdfPages\n",
    "import matplotlib.pyplot as plt\n",
    "%matplotlib inline\n",
    "import scipy.io\n",
    "import scipy.linalg\n",
    "from sklearn.cross_decomposition import PLSRegression \n",
    "from sklearn.metrics import mean_squared_error as MSE\n",
    "from matplotlib.ticker import MaxNLocator\n",
    "from qpfs import *\n",
    "from kernels import *\n",
    "from tqdm import tqdm\n",
    "from sklearn.linear_model import LinearRegression\n",
    "from time import time\n",
    "from datetime import timedelta\n",
    "import warnings\n",
    "warnings.simplefilter(\"ignore\")\n",
    "from tensorly.decomposition import robust_pca"
   ]
  },
  {
   "cell_type": "code",
   "execution_count": null,
   "metadata": {},
   "outputs": [],
   "source": [
    "X_t_train = scipy.io.loadmat('./ECoG_data/ECoG_X_train.mat')['X_train']\n",
    "X_m_train = X_t_train.reshape([-1, 32 * 27])\n",
    "Ytrain = scipy.io.loadmat('./ECoG_data/ECoG_Y_train.mat')['Y_train']\n",
    "\n",
    "X_t_train = (X_t_train - X_t_train.mean(axis=0)) / X_t_train.std(axis=0)\n",
    "X_m_train = (X_m_train - X_m_train.mean(axis=0)) / X_m_train.std(axis=0)\n",
    "Y_train = (Ytrain - Ytrain.mean(axis=0)) / Ytrain.std(axis=0)\n",
    "\n",
    "X_t_test = scipy.io.loadmat('./ECoG_data/ECoG_X_test.mat')['X_hold_out']\n",
    "X_m_test = X_t_test.reshape([-1, 32 * 27])\n",
    "Ytest = scipy.io.loadmat('./ECoG_data/ECoG_Y_test.mat')['Y_hold_out']\n",
    "\n",
    "X_t_test = (X_t_test - X_t_test.mean(axis=0)) / X_t_test.std(axis=0)\n",
    "X_m_test = (X_m_test - X_m_test.mean(axis=0)) / X_m_test.std(axis=0)\n",
    "Y_test = (Ytest - Ytest.mean(axis=0)) / Ytest.std(axis=0)\n",
    "\n",
    "n_samples, n_features = X_m_train.shape\n",
    "\n",
    "print('Tensor X_train shape:', X_t_train.shape, '   Matrix X_train shape:', X_m_train.shape,'   Y_train shape:',  Y_train.shape)\n",
    "print('Tensor X_test shape:', X_t_test.shape, '   Matrix X_test shape:', X_m_test.shape, '   Y_test shape:', Y_test.shape)"
   ]
  },
  {
   "cell_type": "markdown",
   "metadata": {},
   "source": [
    "# PLS"
   ]
  },
  {
   "cell_type": "code",
   "execution_count": 3,
   "metadata": {},
   "outputs": [],
   "source": [
    "def get_autoreg_Y(Y, step=1):\n",
    "    m, t = Y.shape\n",
    "    ar = np.zeros((m - step + 1, t * step))\n",
    "    for i in range(step):\n",
    "        for k in range(t):\n",
    "            ar[:, i * t + k] = Y[i: m + i - step + 1, k]\n",
    "\n",
    "    return ar\n",
    "\n",
    "def get_bootstrap(X, Y):\n",
    "    n = X.shape[0]\n",
    "    idxs = np.random.choice(np.arange(n), size=n)\n",
    "    return X[idxs], Y[idxs]"
   ]
  },
  {
   "cell_type": "code",
   "execution_count": 4,
   "metadata": {},
   "outputs": [],
   "source": [
    "def RMSE(Y_pred,Y):\n",
    "    Y_base = Y.mean(axis=0)\n",
    "    return np.mean(np.sqrt(np.mean((Y - Y_pred) ** 2, axis=0)) / np.sqrt(np.mean((Y - Y_base) ** 2, axis=0)))"
   ]
  },
  {
   "cell_type": "code",
   "execution_count": 5,
   "metadata": {},
   "outputs": [
    {
     "name": "stderr",
     "output_type": "stream",
     "text": [
      "100%|██████████████████████████████████████████████████████████████████████████████████| 19/19 [04:49<00:00, 15.23s/it]\n"
     ]
    },
    {
     "data": {
      "image/png": "[encoded data removed]",
      "text/plain": [
       "<Figure size 432x360 with 1 Axes>"
      ]
     },
     "metadata": {
      "needs_background": "light"
     },
     "output_type": "display_data"
    },
    {
     "name": "stdout",
     "output_type": "stream",
     "text": [
      "14 components with nRMSE = 0.9568374427211591\n"
     ]
    }
   ],
   "source": [
    "step = 30\n",
    "n_restarts = 5\n",
    "\n",
    "Ytrain_ar, Ytest_ar = get_autoreg_Y(Y_train, step), get_autoreg_Y(Y_test, step)\n",
    "Xtrain_ar, Xtest_ar = X_m_train[:X_m_train.shape[0] - step + 1], X_m_test[:X_m_test.shape[0] - step + 1]\n",
    "\n",
    "rmse = []\n",
    "for k in tqdm(range(1, 20)):\n",
    "    pls = PLSRegression(n_components=k)\n",
    "    tr = []\n",
    "    te = []\n",
    "    for i in range(n_restarts):\n",
    "        X, Y = get_bootstrap(Xtrain_ar, Ytrain_ar)\n",
    "        pls.fit(X, Y)\n",
    "        tr.append(metric_nmse(X, Y, pls))\n",
    "        te.append(metric_nmse(Xtest_ar, Ytest_ar, pls))\n",
    "    rmse.append((k, tr, te))\n",
    "    \n",
    "x = [r[0] for r in rmse]\n",
    "y1_mean = np.array([np.mean(r[1]) for r in rmse])\n",
    "y2_mean = np.array([np.mean(r[2]) for r in rmse])\n",
    "y1_std = np.array([np.std(r[1]) for r in rmse])\n",
    "y2_std = np.array([np.std(r[2]) for r in rmse])\n",
    "\n",
    "plt.figure(figsize=(6, 5))\n",
    "\n",
    "plt.plot(x, y1_mean, label='train')\n",
    "plt.fill_between(x, y1_mean - y1_std, y1_mean + y1_std, alpha=0.3)\n",
    "\n",
    "plt.plot(x, y2_mean, label='test')\n",
    "plt.fill_between(x, y2_mean - y2_std, y2_mean + y2_std, alpha=0.3)\n",
    "plt.ylabel(r'sRMSE')\n",
    "plt.xlabel(r'PLS latent space dimensionality, $l$')\n",
    "\n",
    "plt.legend(loc='upper right')\n",
    "plt.tight_layout()\n",
    "plt.savefig('ECoG_PLS.pdf', format='pdf')\n",
    "plt.show()\n",
    "    \n",
    "print(np.argmin(np.array(y2_mean))+1,'components with nRMSE =', min(y2_mean))"
   ]
  },
  {
   "cell_type": "code",
   "execution_count": 6,
   "metadata": {},
   "outputs": [
    {
     "name": "stdout",
     "output_type": "stream",
     "text": [
      "Time: 22.02874183654785\n",
      "Train rmse: 0.9229763292257172 ± 0.0006570840043904805\n",
      "Test rmse: 0.9578477125257148 ± 0.0006570840043904805\n"
     ]
    }
   ],
   "source": [
    "start = time()\n",
    "pls = PLSRegression(n_components=np.argmin(np.array(y2_mean))+1)\n",
    "tr = []\n",
    "te = []\n",
    "for i in range(n_restarts):\n",
    "    X, Y = get_bootstrap(Xtrain_ar, Ytrain_ar)\n",
    "    pls.fit(X, Y)\n",
    "    tr.append(metric_nmse(X, Y, pls))\n",
    "    te.append(metric_nmse(Xtest_ar, Ytest_ar, pls))\n",
    "end = time()\n",
    "PLS_time = end-start\n",
    "PLS_rmse_test = np.mean(te)\n",
    "PLS_rmse_train = np.mean(tr)\n",
    "PLS_rmse_test_std = np.std(te)\n",
    "PLS_rmse_train_std = np.std(te)\n",
    "print('Time:', PLS_time)\n",
    "print('Train rmse:', PLS_rmse_train,'±',PLS_rmse_train_std)\n",
    "print('Test rmse:', PLS_rmse_test,'±',PLS_rmse_test_std)"
   ]
  },
  {
   "cell_type": "markdown",
   "metadata": {},
   "source": [
    "# QPFS + PLS"
   ]
  },
  {
   "cell_type": "code",
   "execution_count": 7,
   "metadata": {},
   "outputs": [
    {
     "name": "stdout",
     "output_type": "stream",
     "text": [
      "step 19\n",
      "(12783, 57) (12783, 864) (6069, 57) (6069, 864)\n",
      "step 20\n",
      "(12782, 60) (12782, 864) (6068, 60) (6068, 864)\n",
      "step 21\n",
      "(12781, 63) (12781, 864) (6067, 63) (6067, 864)\n"
     ]
    }
   ],
   "source": [
    "n_samples, n_features = X_m_train.shape\n",
    "qpfs = QPFS()\n",
    "mqpfs = MultivariateQPFS()\n",
    "steps = [19, 20, 21]\n",
    "n_restarts = 3\n",
    "modes = ['RelAgg','AsymImp']\n",
    "\n",
    "for step in steps:\n",
    "    Ytrain_ar, Ytest_ar = get_autoreg_Y(Y_train, step), get_autoreg_Y(Y_test, step)\n",
    "    Xtrain_ar, Xtest_ar = X_m_train[:X_m_train.shape[0] - step + 1], X_m_test[:X_m_test.shape[0] - step + 1]\n",
    "    print('step', step)\n",
    "    print(Ytrain_ar.shape, Xtrain_ar.shape, Ytest_ar.shape, Xtest_ar.shape)\n",
    "\n",
    "    qpfs.fit(Xtrain_ar, Ytrain_ar)\n",
    "    \n",
    "    score_history = [qpfs.zx]\n",
    "    \n",
    "    mqpfs.get_params(Xtrain_ar, Ytrain_ar)\n",
    "    for mode in modes[1:]:\n",
    "        alphas = mqpfs.get_alpha(mode)\n",
    "        mqpfs.solve_problem(alphas, mode)\n",
    "        score_history.append(mqpfs.zx)\n",
    "    \n",
    "    n_active_array = np.arange(1, n_features // 2, 10)\n",
    "    \n",
    "    for i in range(n_restarts):\n",
    "        X, Y = get_bootstrap(Xtrain_ar, Ytrain_ar)\n",
    "        results = get_metrics(n_active_array, modes, score_history, \n",
    "                              X, Y, Xtest_ar, Ytest_ar)"
   ]
  },
  {
   "cell_type": "code",
   "execution_count": 8,
   "metadata": {},
   "outputs": [
    {
     "name": "stdout",
     "output_type": "stream",
     "text": [
      "AsymImp\n",
      "corr 0.508 $\\pm$ 0.000\n",
      "l2 0.189 $\\pm$ 0.000\n",
      "l1 0.995 $\\pm$ 0.000\n",
      "comp 55.5 $\\pm$ 28.5\n",
      "ham 0.058 $\\pm$ 0.000\n",
      "rmse 0.956 $\\pm$ 0.001\n",
      "--------------------------------------------------------------------------------\n"
     ]
    }
   ],
   "source": [
    "from itertools import combinations\n",
    "lr = LinearRegression()\n",
    "step = 30\n",
    "n_restarts = 3\n",
    "\n",
    "modes = ['RelAgg', 'AsymImp']\n",
    "\n",
    "Ytrain_ar, Ytest_ar = get_autoreg_Y(Y_train, step), get_autoreg_Y(Y_test, step)\n",
    "Xtrain_ar, Xtest_ar = X_m_train[:X_m_train.shape[0] - step + 1], X_m_test[:X_m_test.shape[0] - step + 1]\n",
    "\n",
    "for i in range(1,2):\n",
    "    print(modes[i])\n",
    "    sh = [np.array(s)[:n_features] for s in score_history]\n",
    "    corrs = []\n",
    "    l2s = []\n",
    "    l1s = []\n",
    "    comps = []\n",
    "    hams = []\n",
    "    rmse = []\n",
    "    for s1, s2 in combinations(sh, 2):\n",
    "        corrs.append(sc.stats.spearmanr(s1, s2)[0])\n",
    "        l2s.append(np.sqrt(np.sum((s1 - s2) ** 2)))\n",
    "        l1s.append(np.sum(np.abs(s1 - s2)))\n",
    "        hams.append(sc.spatial.distance.hamming(s1 > 1e-3, s2 > 1e-3))\n",
    "        \n",
    "    for s1 in sh:\n",
    "        comps.append(np.sum(s1 > 1e-6))\n",
    "        active_idxs = s1.argsort()[::-1][:100]#[:np.sum(s1 > 1e-3)]\n",
    "        lr.fit(Xtrain_ar[:, active_idxs], Ytrain_ar)\n",
    "        rmse.append(metric_rmse(Xtest_ar[:, active_idxs], Ytest_ar, lr))\n",
    "    mean_corr = np.mean(corrs)\n",
    "    std_corr = np.std(corrs)\n",
    "    \n",
    "    mean_l2 = np.mean(l2s)\n",
    "    std_l2 = np.std(l2s)\n",
    "    \n",
    "    mean_l1 = np.mean(l1s)\n",
    "    std_l1 = np.std(l1s)\n",
    "    \n",
    "    mean_comp = np.mean(comps)\n",
    "    std_comp = np.std(comps)\n",
    "    \n",
    "    mean_ham = np.mean(hams)\n",
    "    std_ham = np.std(hams)\n",
    "    \n",
    "    mean_rmse = np.mean(rmse)\n",
    "    std_rmse = np.std(rmse)\n",
    "    \n",
    "    print(f'corr {mean_corr:.3f} $\\pm$ {std_corr:.3f}')\n",
    "    print(f'l2 {mean_l2:.3f} $\\pm$ {std_l2:.3f}')\n",
    "    print(f'l1 {mean_l1:.3f} $\\pm$ {std_l1:.3f}')\n",
    "    print(f'comp {mean_comp:.1f} $\\pm$ {std_comp:.1f}')\n",
    "    print(f'ham {mean_ham:.3f} $\\pm$ {std_ham:.3f}')\n",
    "    print(f'rmse {mean_rmse:.3f} $\\pm$ {std_rmse:.3f}')\n",
    "    print('-' * 80)"
   ]
  },
  {
   "cell_type": "code",
   "execution_count": 9,
   "metadata": {},
   "outputs": [
    {
     "name": "stderr",
     "output_type": "stream",
     "text": [
      "100%|██████████████████████████████████████████████████████████████████████████████████| 19/19 [01:20<00:00,  4.22s/it]\n"
     ]
    },
    {
     "data": {
      "image/png": "[encoded data removed]",
      "text/plain": [
       "<Figure size 432x360 with 1 Axes>"
      ]
     },
     "metadata": {
      "needs_background": "light"
     },
     "output_type": "display_data"
    },
    {
     "name": "stdout",
     "output_type": "stream",
     "text": [
      "13 components with nRMSE = 0.9539747355566007\n"
     ]
    }
   ],
   "source": [
    "n_restarts = 5\n",
    "step = 30\n",
    "\n",
    "Ytrain_ar, Ytest_ar = get_autoreg_Y(Y_train, step), get_autoreg_Y(Y_test, step)\n",
    "Xtrain_ar, Xtest_ar = X_m_train[:X_m_train.shape[0] - step + 1,active_idxs], X_m_test[:X_m_test.shape[0] - step + 1,active_idxs]\n",
    "\n",
    "rmse = []\n",
    "for k in tqdm(range(1, 20)):\n",
    "    pls = PLSRegression(n_components=k)\n",
    "    tr = []\n",
    "    te = []\n",
    "    for i in range(n_restarts):\n",
    "        X, Y = get_bootstrap(Xtrain_ar, Ytrain_ar)\n",
    "        pls.fit(X, Y)\n",
    "        tr.append(metric_nmse(X, Y, pls))\n",
    "        te.append(metric_nmse(Xtest_ar, Ytest_ar, pls))\n",
    "    rmse.append((k, tr, te))\n",
    "    \n",
    "x = [r[0] for r in rmse]\n",
    "y1_mean = np.array([np.mean(r[1]) for r in rmse])\n",
    "y2_mean = np.array([np.mean(r[2]) for r in rmse])\n",
    "y1_std = np.array([np.std(r[1]) for r in rmse])\n",
    "y2_std = np.array([np.std(r[2]) for r in rmse])\n",
    "\n",
    "plt.figure(figsize=(6, 5))\n",
    "\n",
    "plt.plot(x, y1_mean, label='train')\n",
    "plt.fill_between(x, y1_mean - y1_std, y1_mean + y1_std, alpha=0.3)\n",
    "\n",
    "plt.plot(x, y2_mean, label='test')\n",
    "plt.fill_between(x, y2_mean - y2_std, y2_mean + y2_std, alpha=0.3)\n",
    "plt.ylabel(r'sRMSE')\n",
    "plt.xlabel(r'PLS latent space dimensionality, $l$')\n",
    "\n",
    "plt.legend(loc='upper right')\n",
    "plt.tight_layout()\n",
    "plt.savefig('ECoG_QPFS+PLS.pdf', format='pdf')\n",
    "plt.show()\n",
    "    \n",
    "print(np.argmin(np.array(y2_mean))+1,'components with nRMSE =', min(y2_mean))"
   ]
  },
  {
   "cell_type": "code",
   "execution_count": 11,
   "metadata": {},
   "outputs": [
    {
     "name": "stdout",
     "output_type": "stream",
     "text": [
      "Time: 116.11866545677185\n",
      "Train rmse: 0.9422266631301319 ± 0.0009898664507595803\n",
      "Test rmse: 0.9526406386691135 ± 0.0009898664507595803\n"
     ]
    }
   ],
   "source": [
    "step = 21\n",
    "mode = 'AsymImp'\n",
    "n_samples, n_features = X_m_train.shape\n",
    "Ytrain_ar, Ytest_ar = get_autoreg_Y(Y_train, step), get_autoreg_Y(Y_test, step)\n",
    "Xtrain_ar, Xtest_ar = X_m_train[:X_m_train.shape[0] - step + 1], X_m_test[:X_m_test.shape[0] - step + 1]\n",
    "\n",
    "start = time()\n",
    "\n",
    "qpfs.fit(Xtrain_ar, Ytrain_ar)\n",
    "\n",
    "score_history = [qpfs.zx]\n",
    "\n",
    "mqpfs.get_params(Xtrain_ar, Ytrain_ar)\n",
    "alphas = mqpfs.get_alpha(mode)\n",
    "mqpfs.solve_problem(alphas, mode)\n",
    "score_history.append(mqpfs.zx)\n",
    "\n",
    "n_active_array = np.arange(1, n_features // 2, 10)\n",
    "\n",
    "for s1 in sh:\n",
    "    comps.append(np.sum(s1 > 1e-6))\n",
    "    active_idxs = s1.argsort()[::-1][:100]\n",
    "\n",
    "Xtrain_ar, Xtest_ar = X_m_train[:X_m_train.shape[0] - step + 1,active_idxs], X_m_test[:X_m_test.shape[0] - step + 1,active_idxs]\n",
    "pls = PLSRegression(n_components=np.argmin(np.array(y2_mean))+1)\n",
    "tr = []\n",
    "te = []\n",
    "for i in range(n_restarts):\n",
    "    X, Y = get_bootstrap(Xtrain_ar, Ytrain_ar)\n",
    "    pls.fit(X, Y)\n",
    "    tr.append(metric_nmse(X, Y, pls))\n",
    "    te.append(metric_nmse(Xtest_ar, Ytest_ar, pls))\n",
    "    \n",
    "end = time()\n",
    "QPFS_PLS_time = end-start\n",
    "QPFS_PLS_rmse_test = np.mean(te)\n",
    "QPFS_PLS_rmse_train = np.mean(tr)\n",
    "QPFS_PLS_rmse_test_std = np.std(te)\n",
    "QPFS_PLS_rmse_train_std = np.std(te)\n",
    "print('Time:', QPFS_PLS_time)\n",
    "print('Train rmse:', QPFS_PLS_rmse_train,'±',QPFS_PLS_rmse_train_std)\n",
    "print('Test rmse:', QPFS_PLS_rmse_test,'±',QPFS_PLS_rmse_test_std)"
   ]
  },
  {
   "cell_type": "markdown",
   "metadata": {},
   "source": [
    "# HOPLS"
   ]
  },
  {
   "cell_type": "code",
   "execution_count": 5,
   "metadata": {},
   "outputs": [],
   "source": [
    "from GenerateData import generateComplex\n",
    "import os\n",
    "import sys\n",
    "import warnings\n",
    "import torch\n",
    "import numpy as np\n",
    "from sklearn.cross_decomposition import PLSRegression\n",
    "from sklearn.model_selection import KFold\n",
    "from scipy.io import loadmat, savemat\n",
    "from joblib import Parallel, delayed\n",
    "from hopls import matricize, qsquared, HOPLS\n",
    "import tensorly as tl\n",
    "\n",
    "def compute_rmse_pls(tdata, tlabel, vdata, vlabel, Rval):\n",
    "    test = PLSRegression(n_components=Rval,scale=False,max_iter=1000,tol=1e-5)\n",
    "    with warnings.catch_warnings():\n",
    "        warnings.simplefilter(\"ignore\")\n",
    "        test.fit(matricize(tdata), matricize(tlabel))\n",
    "    Y_pred = test.predict(matricize(vdata))\n",
    "    Q2 = qsquared(matricize(vlabel), matricize(Y_pred))\n",
    "    return Q2\n",
    "\n",
    "def compute_rmse_hopls(tdata, tlabel, vdata, vlabel, la, R_max=20):\n",
    "    Ln = [la] * (len(tdata.shape) - 1)\n",
    "    if len(tlabel.shape) > 2:\n",
    "        Km = [la] * (len(tlabel.shape) - 1)\n",
    "    else:\n",
    "        Km = None\n",
    "    test = HOPLS(R_max, Ln, Km)\n",
    "    test.fit(tdata, tlabel)\n",
    "    label_pred_train, r_train, _ = test.predict(tdata, tlabel)\n",
    "    label_pred_test, r_test, _ = test.predict(vdata, vlabel)\n",
    "    rmse_train = RMSE(label_pred_train.numpy(),tlabel.numpy())\n",
    "    rmse_test = RMSE(label_pred_test.numpy(),vlabel.numpy())\n",
    "    return rmse_train, rmse_test\n"
   ]
  },
  {
   "cell_type": "code",
   "execution_count": 10,
   "metadata": {},
   "outputs": [],
   "source": [
    "Q_hopls = []\n",
    "RMSE_hopls = []\n",
    "n_restarts = 3\n",
    "for R in range(1,40,2):\n",
    "    for l in range(1,5):\n",
    "        te = []\n",
    "        tr = []\n",
    "        for n in range(n_restarts):\n",
    "            rmse_tr, rmse_te = compute_rmse_hopls(torch.tensor(X_t_train),torch.tensor(Y_train), torch.tensor(X_t_test), torch.tensor(Y_test),l,R)\n",
    "            tr.append(rmse_tr)\n",
    "            te.append(rmse_te)\n",
    "        RMSE_hopls.append([R,l,tr,te])"
   ]
  },
  {
   "cell_type": "code",
   "execution_count": 11,
   "metadata": {},
   "outputs": [],
   "source": [
    "y2_mean = np.array([np.mean(r[3]) for r in RMSE_hopls])\n",
    "R = RMSE_hopls[np.argmin(y2_mean)][0]\n",
    "l = RMSE_hopls[np.argmin(y2_mean)][1]"
   ]
  },
  {
   "cell_type": "code",
   "execution_count": 12,
   "metadata": {},
   "outputs": [
    {
     "data": {
      "text/plain": [
       "(27, 2)"
      ]
     },
     "execution_count": 12,
     "metadata": {},
     "output_type": "execute_result"
    }
   ],
   "source": [
    "R, l"
   ]
  },
  {
   "cell_type": "code",
   "execution_count": 14,
   "metadata": {},
   "outputs": [
    {
     "data": {
      "text/plain": [
       "<Figure size 432x360 with 0 Axes>"
      ]
     },
     "metadata": {},
     "output_type": "display_data"
    },
    {
     "data": {
      "image/png": "[encoded data removed]",
      "text/plain": [
       "<Figure size 432x360 with 1 Axes>"
      ]
     },
     "metadata": {
      "needs_background": "light"
     },
     "output_type": "display_data"
    },
    {
     "name": "stdout",
     "output_type": "stream",
     "text": [
      "29 components with nRMSE = 0.9563785995361743\n"
     ]
    }
   ],
   "source": [
    "plt.figure(figsize=(6, 5))\n",
    "x = np.array(range(1,40,2))\n",
    "y1_mean = np.array([np.mean(r[2]) for r in RMSE_hopls])[np.where(np.array([r[1] for r in RMSE_hopls])==2)]\n",
    "y2_mean = np.array([np.mean(r[3]) for r in RMSE_hopls])[np.where(np.array([r[1] for r in RMSE_hopls])==2)]\n",
    "y1_std = np.array([np.std(r[2]) for r in RMSE_hopls])[np.where(np.array([r[1] for r in RMSE_hopls])==2)]\n",
    "y2_std = np.array([np.std(r[3]) for r in RMSE_hopls])[np.where(np.array([r[1] for r in RMSE_hopls])==2)]\n",
    "\n",
    "plt.figure(figsize=(6, 5))\n",
    "\n",
    "plt.plot(x, y1_mean, label='train')\n",
    "plt.fill_between(x, y1_mean - y1_std, y1_mean + y1_std, alpha=0.3)\n",
    "\n",
    "plt.plot(x, y2_mean, label='test')\n",
    "plt.fill_between(x, y2_mean - y2_std, y2_mean + y2_std, alpha=0.3)\n",
    "plt.ylabel(r'sRMSE')\n",
    "plt.xlabel(r'PLS latent space dimensionality, $l$')\n",
    "\n",
    "plt.legend(loc='upper right')\n",
    "plt.tight_layout()\n",
    "plt.savefig('ECoG_HOPLS.pdf', format='pdf')\n",
    "plt.show()\n",
    "    \n",
    "print(x[np.argmin(np.array(y2_mean))+1],'components with nRMSE =', min(y2_mean))"
   ]
  },
  {
   "cell_type": "code",
   "execution_count": 15,
   "metadata": {},
   "outputs": [
    {
     "name": "stdout",
     "output_type": "stream",
     "text": [
      "Time: 39.07697916030884\n",
      "Train rmse: 0.9408636923701422 ± 2.2375883352003356e-15\n",
      "Test rmse: 0.9563785995361765 ± 2.2375883352003356e-15\n"
     ]
    }
   ],
   "source": [
    "n_restarts = 5\n",
    "start = time()\n",
    "tr = []\n",
    "te = []\n",
    "for i in range(n_restarts):\n",
    "    rmse_tr, rmse_te = compute_rmse_hopls(torch.tensor(X_t_train),torch.tensor(Y_train), torch.tensor(X_t_test), torch.tensor(Y_test),l,R)\n",
    "    tr.append(rmse_tr)\n",
    "    te.append(rmse_te)\n",
    "end = time()\n",
    "HOPLS_time = end-start\n",
    "HOPLS_rmse_test = np.mean(te)\n",
    "HOPLS_rmse_train = np.mean(tr)\n",
    "HOPLS_rmse_test_std = np.std(te)\n",
    "HOPLS_rmse_train_std = np.std(te)\n",
    "print('Time:', HOPLS_time)\n",
    "print('Train rmse:', HOPLS_rmse_train,'±',HOPLS_rmse_train_std)\n",
    "print('Test rmse:', HOPLS_rmse_test,'±',HOPLS_rmse_test_std)"
   ]
  },
  {
   "cell_type": "markdown",
   "metadata": {},
   "source": [
    "# 2d-PCA + PLS"
   ]
  },
  {
   "cell_type": "code",
   "execution_count": 6,
   "metadata": {},
   "outputs": [],
   "source": [
    "import numpy as np\n",
    "import scipy.linalg as s_linalg\n",
    "\n",
    "\n",
    "class two_d_pca_class:\n",
    "\n",
    "\n",
    "    def give_p(self, d):\n",
    "        #print(\"D\", d)\n",
    "        sum = np.sum(d)\n",
    "        sum_85 = self.p * sum\n",
    "        temp = 0\n",
    "        p = 0\n",
    "        while temp < sum_85:\n",
    "            temp += d[p]\n",
    "            p += 1\n",
    "        return p\n",
    "\n",
    "    def reduce_dim(self):\n",
    "\n",
    "        no_of_images = self.images.shape[0]\n",
    "        mat_height = self.images.shape[1]\n",
    "        mat_width = self.images.shape[2]\n",
    "        g_t = np.zeros((mat_width, mat_width))\n",
    "        h_t = np.zeros((mat_height, mat_height))\n",
    "\n",
    "        for i in range(no_of_images):\n",
    "            temp = np.dot(self.images_mean_subtracted[i].T, self.images_mean_subtracted[i])\n",
    "            #print(temp.shape,g_t.shape,h_t.shape)\n",
    "            g_t += temp\n",
    "            h_t += np.dot(self.images_mean_subtracted[i], self.images_mean_subtracted[i].T)\n",
    "\n",
    "        g_t /= no_of_images\n",
    "        h_t /= no_of_images\n",
    "\n",
    "        #For G_T\n",
    "        d_mat, p_mat = np.linalg.eig(g_t)\n",
    "        p_1 = self.give_p(d_mat)\n",
    "        self.new_bases_gt = p_mat[:, 0:p_1]\n",
    "\n",
    "        #For H_T\n",
    "        d_mat, p_mat = np.linalg.eig(h_t)\n",
    "        p_2 = self.give_p(d_mat)\n",
    "        self.new_bases_ht = p_mat[:, 0:p_2]\n",
    "\n",
    "\n",
    "        new_coordinates_temp = np.dot(self.images, self.new_bases_gt)\n",
    "\n",
    "        self.new_coordinates = np.zeros((no_of_images, p_2, p_1))\n",
    "\n",
    "        for i in range(no_of_images):\n",
    "            self.new_coordinates[i, :, :] = np.dot(self.new_bases_ht.T, new_coordinates_temp[i])\n",
    "\n",
    "        return self.new_coordinates\n",
    "\n",
    "\n",
    "    def __init__(self, images,p):\n",
    "        self.images = np.asarray(images)\n",
    "        self.mean_face = np.mean(self.images, 0)\n",
    "        self.p = p\n",
    "        self.images_mean_subtracted = self.images - self.mean_face\n",
    "\n",
    "\n",
    "    def original_data(self, new_coordinates):\n",
    "        return np.dot(self.new_bases_ht, np.dot(new_coordinates, self.new_bases_gt.T))\n",
    "\n",
    "\n",
    "    def new_cord_for_image(self, image):\n",
    "        new_image = np.zeros((image.shape[0],self.new_bases_ht.shape[1],self.new_bases_gt.shape[1]))\n",
    "        for i in range(image.shape[0]):\n",
    "            new_image[i,:,:] = np.dot(self.new_bases_ht.T, np.dot(image[i,:,:], self.new_bases_gt))\n",
    "        return new_image\n",
    "\n"
   ]
  },
  {
   "cell_type": "code",
   "execution_count": 19,
   "metadata": {},
   "outputs": [],
   "source": [
    "n_restarts = 5\n",
    "rmse = []\n",
    "for p in np.arange(0.9,1,0.005):\n",
    "        pca = two_d_pca_class(X_t_train,p)\n",
    "        X_n_train = pca.reduce_dim().reshape(X_t_train.shape[0],-1)\n",
    "        X_n_test = pca.new_cord_for_image(X_t_test).reshape(X_t_test.shape[0],-1)\n",
    "        for k in range(1, 4):\n",
    "            pls = PLSRegression(n_components=k)\n",
    "            tr = []\n",
    "            te = []\n",
    "            for i in range(n_restarts):\n",
    "                X, Y = X_n_train, Y_train\n",
    "                pls.fit(X, Y)\n",
    "                tr.append(metric_nmse(X, Y, pls))\n",
    "                te.append(metric_nmse(X_n_test, Y_test, pls))\n",
    "            rmse.append((k, tr, te, p))"
   ]
  },
  {
   "cell_type": "code",
   "execution_count": 20,
   "metadata": {},
   "outputs": [
    {
     "name": "stdout",
     "output_type": "stream",
     "text": [
      "percentage of information: 98.5 RMSE fo test: 0.93205611724303\n"
     ]
    }
   ],
   "source": [
    "y2_mean = np.array([np.mean(r[2]) for r in rmse])\n",
    "p = rmse[np.argmin(y2_mean)][3]\n",
    "print('percentage of information:', round(p*100,2), 'RMSE fo test:', np.mean(rmse[np.argmin(y2_mean)][2]))"
   ]
  },
  {
   "cell_type": "code",
   "execution_count": 21,
   "metadata": {},
   "outputs": [
    {
     "name": "stderr",
     "output_type": "stream",
     "text": [
      "\r",
      "  0%|                                                                                           | 0/14 [00:00<?, ?it/s]"
     ]
    },
    {
     "name": "stdout",
     "output_type": "stream",
     "text": [
      "(12801, 392) (6087, 392)\n"
     ]
    },
    {
     "name": "stderr",
     "output_type": "stream",
     "text": [
      "100%|██████████████████████████████████████████████████████████████████████████████████| 14/14 [02:04<00:00,  8.91s/it]\n"
     ]
    },
    {
     "data": {
      "image/png": "[encoded data removed]",
      "text/plain": [
       "<Figure size 432x360 with 1 Axes>"
      ]
     },
     "metadata": {
      "needs_background": "light"
     },
     "output_type": "display_data"
    },
    {
     "name": "stdout",
     "output_type": "stream",
     "text": [
      "2 components with nRMSE = 0.951617553069213\n"
     ]
    }
   ],
   "source": [
    "pca = two_d_pca_class(X_t_train,rmse[np.argmin(y2_mean)][3])\n",
    "X_n_train = pca.reduce_dim().reshape(X_t_train.shape[0],-1)\n",
    "X_n_test = pca.new_cord_for_image(X_t_test).reshape(X_t_test.shape[0],-1)\n",
    "print(X_n_train.shape,X_n_test.shape)\n",
    "n_restarts = 5\n",
    "step = 30\n",
    "\n",
    "Ytrain_ar, Ytest_ar = get_autoreg_Y(Y_train, step), get_autoreg_Y(Y_test, step)\n",
    "Xtrain_ar, Xtest_ar = X_n_train[:X_n_train.shape[0] - step + 1,], X_n_test[:X_n_test.shape[0] - step + 1]\n",
    "\n",
    "rmse = []\n",
    "for k in tqdm(range(1, 15)):\n",
    "    pls = PLSRegression(n_components=k)\n",
    "    tr = []\n",
    "    te = []\n",
    "    for i in range(n_restarts):\n",
    "        X, Y = get_bootstrap(Xtrain_ar, Ytrain_ar)\n",
    "        pls.fit(X, Y)\n",
    "        tr.append(metric_nmse(X, Y, pls))\n",
    "        te.append(metric_nmse(Xtest_ar, Ytest_ar, pls))\n",
    "    rmse.append((k, tr, te))\n",
    "    \n",
    "x = [r[0] for r in rmse]\n",
    "y1_mean = np.array([np.mean(r[1]) for r in rmse])\n",
    "y2_mean = np.array([np.mean(r[2]) for r in rmse])\n",
    "y1_std = np.array([np.std(r[1]) for r in rmse])\n",
    "y2_std = np.array([np.std(r[2]) for r in rmse])\n",
    "\n",
    "plt.figure(figsize=(6, 5))\n",
    "\n",
    "plt.plot(x, y1_mean, label='train')\n",
    "plt.fill_between(x, y1_mean - y1_std, y1_mean + y1_std, alpha=0.3)\n",
    "\n",
    "plt.plot(x, y2_mean, label='test')\n",
    "plt.fill_between(x, y2_mean - y2_std, y2_mean + y2_std, alpha=0.3)\n",
    "plt.ylabel(r'sRMSE')\n",
    "plt.xlabel(r'PLS latent space dimensionality, $l$')\n",
    "\n",
    "plt.legend(loc='upper right')\n",
    "plt.tight_layout()\n",
    "plt.savefig('ECoG_MPCA+PLS.pdf', format='pdf')\n",
    "plt.show()\n",
    "    \n",
    "print(np.argmin(np.array(y2_mean))+1,'components with nRMSE =', min(y2_mean))\n"
   ]
  },
  {
   "cell_type": "code",
   "execution_count": 25,
   "metadata": {},
   "outputs": [
    {
     "name": "stdout",
     "output_type": "stream",
     "text": [
      "Time: 3.036234140396118\n",
      "Train rmse: 0.9311366196847969 ± 0.0016757185868778517\n",
      "Test rmse: 0.9525279103818303 ± 0.0016757185868778517\n"
     ]
    }
   ],
   "source": [
    "n_restarts = 5\n",
    "start = time()\n",
    "pca = two_d_pca_class(X_t_train,p)\n",
    "X_n_train = pca.reduce_dim().reshape(X_t_train.shape[0],-1)\n",
    "X_n_test = pca.new_cord_for_image(X_t_test).reshape(X_t_test.shape[0],-1)\n",
    "n_restarts = 5\n",
    "step = 30\n",
    "\n",
    "Ytrain_ar, Ytest_ar = get_autoreg_Y(Y_train, step), get_autoreg_Y(Y_test, step)\n",
    "Xtrain_ar, Xtest_ar = X_n_train[:X_n_train.shape[0] - step + 1,], X_n_test[:X_n_test.shape[0] - step + 1]\n",
    "pls = PLSRegression(n_components=np.argmin(np.array(y2_mean))+1)\n",
    "tr = []\n",
    "te = []\n",
    "for i in range(n_restarts):\n",
    "    X, Y = get_bootstrap(Xtrain_ar, Ytrain_ar)\n",
    "    pls.fit(X, Y)\n",
    "    tr.append(metric_nmse(X, Y, pls))\n",
    "    te.append(metric_nmse(Xtest_ar, Ytest_ar, pls))\n",
    "end = time()\n",
    "MPCA_PLS_time = end-start\n",
    "MPCA_PLS_rmse_test = np.mean(te)\n",
    "MPCA_PLS_rmse_train = np.mean(tr)\n",
    "MPCA_PLS_rmse_test_std = np.std(te)\n",
    "MPCA_PLS_rmse_train_std = np.std(te)\n",
    "print('Time:', MPCA_PLS_time)\n",
    "print('Train rmse:', MPCA_PLS_rmse_train,'±',MPCA_PLS_rmse_train_std)\n",
    "print('Test rmse:', MPCA_PLS_rmse_test,'±',MPCA_PLS_rmse_test_std)"
   ]
  },
  {
   "cell_type": "markdown",
   "metadata": {},
   "source": [
    "# 2d-PCA + HOPLS"
   ]
  },
  {
   "cell_type": "code",
   "execution_count": 8,
   "metadata": {},
   "outputs": [
    {
     "name": "stdout",
     "output_type": "stream",
     "text": [
      "p: 0.995   R: 29   l: 2   Test rmse: 0.956421995618058\n"
     ]
    }
   ],
   "source": [
    "RMSE_pca_hopls = []\n",
    "for p in np.arange(0.98,0.999,0.005):\n",
    "        pca = two_d_pca_class(X_t_train,p)\n",
    "        X_n_train = pca.reduce_dim()\n",
    "        X_n_test = pca.new_cord_for_image(X_t_test)\n",
    "        for R in range(1,30,2):\n",
    "            for l in range(1,4):\n",
    "                rmse_tr, rmse_te = compute_rmse_hopls(torch.tensor(X_n_train),torch.tensor(Y_train), torch.tensor(X_n_test), torch.tensor(Y_test),l,R)\n",
    "                #Q_hopls.append([R,l,Q])\n",
    "                RMSE_pca_hopls.append([p,R,l,rmse_tr, rmse_te])\n",
    "y2_mean = np.array([r[4] for r in RMSE_pca_hopls])\n",
    "p = RMSE_pca_hopls[np.argmin(y2_mean)][0]\n",
    "R = RMSE_pca_hopls[np.argmin(y2_mean)][1]\n",
    "l = RMSE_pca_hopls[np.argmin(y2_mean)][2]\n",
    "print('p:',p,'  R:',R, '  l:',l,'  Test rmse:', RMSE_pca_hopls[np.argmin(y2_mean)][4])"
   ]
  },
  {
   "cell_type": "code",
   "execution_count": 9,
   "metadata": {},
   "outputs": [
    {
     "name": "stdout",
     "output_type": "stream",
     "text": [
      "Time: 43.193947315216064\n",
      "Train rmse: 0.9630117449296073 ± 5.135906591666906e-16\n",
      "Test rmse: 0.971906621711869 ± 5.135906591666906e-16\n"
     ]
    }
   ],
   "source": [
    "n_restarts = 5\n",
    "start = time()\n",
    "pca = two_d_pca_class(X_t_train,p)\n",
    "X_n_train = pca.reduce_dim()\n",
    "X_n_test = pca.new_cord_for_image(X_t_test)\n",
    "n_restarts = 5\n",
    "step = 30\n",
    "\n",
    "Ytrain_ar, Ytest_ar = get_autoreg_Y(Y_train, step), get_autoreg_Y(Y_test, step)\n",
    "Xtrain_ar, Xtest_ar = X_n_train[:X_n_train.shape[0] - step + 1,], X_n_test[:X_n_test.shape[0] - step + 1]\n",
    "tr = []\n",
    "te = []\n",
    "for i in range(n_restarts):\n",
    "    rmse_tr, rmse_te = compute_rmse_hopls(torch.tensor(Xtrain_ar),torch.tensor(Ytrain_ar), torch.tensor(Xtest_ar), torch.tensor(Ytest_ar),l,R)\n",
    "    tr.append(rmse_tr)\n",
    "    te.append(rmse_te)\n",
    "end = time()\n",
    "MPCA_HOPLS_time = end-start\n",
    "MPCA_HOPLS_rmse_test = np.mean(te)\n",
    "MPCA_HOPLS_rmse_train = np.mean(tr)\n",
    "MPCA_HOPLS_rmse_test_std = np.std(te)\n",
    "MPCA_HOPLS_rmse_train_std = np.std(te)\n",
    "print('Time:', MPCA_HOPLS_time)\n",
    "print('Train rmse:', MPCA_HOPLS_rmse_train,'±',MPCA_HOPLS_rmse_train_std)\n",
    "print('Test rmse:', MPCA_HOPLS_rmse_test,'±',MPCA_HOPLS_rmse_test_std)"
   ]
  },
  {
   "cell_type": "code",
   "execution_count": null,
   "metadata": {},
   "outputs": [],
   "source": []
  }
 ],
 "metadata": {
  "kernelspec": {
   "display_name": "Python 3",
   "language": "python",
   "name": "python3"
  },
  "language_info": {
   "codemirror_mode": {
    "name": "ipython",
    "version": 3
   },
   "file_extension": ".py",
   "mimetype": "text/x-python",
   "name": "python",
   "nbconvert_exporter": "python",
   "pygments_lexer": "ipython3",
   "version": "3.8.8"
  }
 },
 "nbformat": 4,
 "nbformat_minor": 4
}
